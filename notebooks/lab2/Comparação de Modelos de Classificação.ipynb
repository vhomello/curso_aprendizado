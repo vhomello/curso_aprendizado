{
 "cells": [
  {
   "cell_type": "markdown",
   "id": "c8dc593f-b0dd-43fa-9e94-99adae06866c",
   "metadata": {},
   "source": [
    "# Atividade: Comparação de Modelos de Classificação\n",
    "\n",
    "## Objetivo\n",
    "\n",
    "- Comparar os seguintes modelos de classificação:\n",
    "  * Árvore de Decisão com poda\n",
    "  * K Vizinhos mais Próximos (KNN)\n",
    "  * Regressão Logística\n",
    "  * Floresta Aleatória\n",
    "- Escolher o melhor modelo com base no desempenho em validação\n",
    "- Avaliar o melhor modelo no conjunto de teste\n",
    "\n",
    "## Etapas da atividade\n",
    "\n",
    "1. **Carregar o dataset** `dataset_classificacao.csv`  \n",
    "   - Use: `pandas.read_csv(\"dataset_classificacao.csv\")`\n",
    "\n",
    "2. **Separar os dados em treino, validação e teste** (60%, 20%, 20%)  \n",
    "   - Use: `sklearn.model_selection.train_test_split` duas vezes:  \n",
    "     Primeiro para separar treino+validação de teste,  \n",
    "     Depois para separar treino de validação.\n",
    "\n",
    "3. **Treinar os seguintes modelos:**\n",
    "\n",
    "   a) **Árvore de Decisão com poda por complexidade**  \n",
    "      - Use: `sklearn.tree.DecisionTreeClassifier`  \n",
    "      - Para poda: use o método `cost_complexity_pruning_path`  \n",
    "      - Varra diferentes valores de `ccp_alpha` e escolha o melhor na validação  \n",
    "\n",
    "   b) **KNN (K-Nearest Neighbors)**  \n",
    "      - Use: `sklearn.neighbors.KNeighborsClassifier`  \n",
    "      - Teste para `k = 3, 5, 10, 20`\n",
    "\n",
    "   c) **Regressão Logística (sem ajustar hiperparâmetros)**  \n",
    "      - Use: `sklearn.linear_model.LogisticRegression` com os parâmetros padrão  \n",
    "\n",
    "   d) **Floresta Aleatória**  \n",
    "      - Use: `sklearn.ensemble.RandomForestClassifier`  \n",
    "      - Fixe `n_estimators=100`  \n",
    "      - Teste combinações de `criterion = ['gini', 'entropy']` e `max_features = ['sqrt', 'log2', None]`\n",
    "\n",
    "4. **Para cada modelo (usando apenas o conjunto de validação), calcule:**\n",
    "   - Acurácia: `sklearn.metrics.accuracy_score`\n",
    "   - Precisão: `sklearn.metrics.precision_score`\n",
    "   - Recall: `sklearn.metrics.recall_score`\n",
    "   - F1-score: `sklearn.metrics.f1_score`\n",
    "\n",
    "5. **Monte uma tabela** (`pandas.DataFrame`) com uma linha por modelo e colunas:  \n",
    "   `'acuracia'`, `'precisao'`, `'recall'`, `'f1'`\n",
    "\n",
    "6. **Escolha o melhor modelo com base nas métricas de validação.**  \n",
    "   - Avalie esse único modelo no conjunto de teste.  \n",
    "\n",
    "7. **Exiba as importâncias usando Floresta Aleatória:**  \n",
    "   - Mostre um gráfico com as 20 variáveis mais importantes  \n",
    "   - Use: `modelo.feature_importances_`  \n",
    "   - Para plotar: `matplotlib.pyplot.bar`\n",
    "\n",
    "8. **Utilizando a informação encontrada no item anterior, quantas covariadas você acha que são de fato importantes para o problema?** \n"
   ]
  },
  {
   "cell_type": "markdown",
   "id": "eac92997",
   "metadata": {},
   "source": [
    "# Imports"
   ]
  },
  {
   "cell_type": "code",
   "execution_count": 1,
   "id": "3df9264c",
   "metadata": {},
   "outputs": [],
   "source": [
    "import pandas as pd\n",
    "from sklearn.metrics import accuracy_score, precision_score, recall_score, f1_score\n",
    "from sklearn.tree import DecisionTreeClassifier\n",
    "from sklearn.ensemble import RandomForestClassifier\n",
    "from sklearn.linear_model import LogisticRegression\n",
    "from sklearn.neighbors import KNeighborsClassifier\n",
    "from sklearn.model_selection import train_test_split\n",
    "\n",
    "import optuna"
   ]
  },
  {
   "cell_type": "markdown",
   "id": "52f14b17",
   "metadata": {},
   "source": [
    "# Data Processing"
   ]
  },
  {
   "cell_type": "code",
   "execution_count": 2,
   "id": "44a2d9db",
   "metadata": {},
   "outputs": [
    {
     "data": {
      "text/html": [
       "<div>\n",
       "<style scoped>\n",
       "    .dataframe tbody tr th:only-of-type {\n",
       "        vertical-align: middle;\n",
       "    }\n",
       "\n",
       "    .dataframe tbody tr th {\n",
       "        vertical-align: top;\n",
       "    }\n",
       "\n",
       "    .dataframe thead th {\n",
       "        text-align: right;\n",
       "    }\n",
       "</style>\n",
       "<table border=\"1\" class=\"dataframe\">\n",
       "  <thead>\n",
       "    <tr style=\"text-align: right;\">\n",
       "      <th></th>\n",
       "      <th>x0</th>\n",
       "      <th>x1</th>\n",
       "      <th>x2</th>\n",
       "      <th>x3</th>\n",
       "      <th>x4</th>\n",
       "      <th>x5</th>\n",
       "      <th>x6</th>\n",
       "      <th>x7</th>\n",
       "      <th>x8</th>\n",
       "      <th>x9</th>\n",
       "      <th>...</th>\n",
       "      <th>x491</th>\n",
       "      <th>x492</th>\n",
       "      <th>x493</th>\n",
       "      <th>x494</th>\n",
       "      <th>x495</th>\n",
       "      <th>x496</th>\n",
       "      <th>x497</th>\n",
       "      <th>x498</th>\n",
       "      <th>x499</th>\n",
       "      <th>target</th>\n",
       "    </tr>\n",
       "  </thead>\n",
       "  <tbody>\n",
       "    <tr>\n",
       "      <th>0</th>\n",
       "      <td>0.991245</td>\n",
       "      <td>0.050748</td>\n",
       "      <td>-0.343749</td>\n",
       "      <td>0.274253</td>\n",
       "      <td>-1.518734</td>\n",
       "      <td>-0.159455</td>\n",
       "      <td>1.427896</td>\n",
       "      <td>1.926818</td>\n",
       "      <td>1.555172</td>\n",
       "      <td>-1.737581</td>\n",
       "      <td>...</td>\n",
       "      <td>0.226665</td>\n",
       "      <td>-0.147782</td>\n",
       "      <td>-0.024233</td>\n",
       "      <td>1.513658</td>\n",
       "      <td>0.928057</td>\n",
       "      <td>0.449303</td>\n",
       "      <td>0.071110</td>\n",
       "      <td>1.468139</td>\n",
       "      <td>0.208218</td>\n",
       "      <td>1</td>\n",
       "    </tr>\n",
       "    <tr>\n",
       "      <th>1</th>\n",
       "      <td>0.292069</td>\n",
       "      <td>0.962034</td>\n",
       "      <td>-2.349618</td>\n",
       "      <td>-0.440499</td>\n",
       "      <td>-0.494180</td>\n",
       "      <td>0.711639</td>\n",
       "      <td>1.408426</td>\n",
       "      <td>-0.238690</td>\n",
       "      <td>1.660926</td>\n",
       "      <td>0.674760</td>\n",
       "      <td>...</td>\n",
       "      <td>0.157092</td>\n",
       "      <td>0.509665</td>\n",
       "      <td>-1.661400</td>\n",
       "      <td>-0.502276</td>\n",
       "      <td>0.502979</td>\n",
       "      <td>-1.098843</td>\n",
       "      <td>-1.753755</td>\n",
       "      <td>2.173440</td>\n",
       "      <td>1.090410</td>\n",
       "      <td>0</td>\n",
       "    </tr>\n",
       "    <tr>\n",
       "      <th>2</th>\n",
       "      <td>-1.379857</td>\n",
       "      <td>-1.239205</td>\n",
       "      <td>1.616920</td>\n",
       "      <td>0.649324</td>\n",
       "      <td>-1.395141</td>\n",
       "      <td>0.643645</td>\n",
       "      <td>-0.374341</td>\n",
       "      <td>0.378370</td>\n",
       "      <td>1.182380</td>\n",
       "      <td>0.977513</td>\n",
       "      <td>...</td>\n",
       "      <td>-0.817294</td>\n",
       "      <td>-0.561936</td>\n",
       "      <td>0.638945</td>\n",
       "      <td>-0.571702</td>\n",
       "      <td>0.136797</td>\n",
       "      <td>0.895805</td>\n",
       "      <td>-0.958593</td>\n",
       "      <td>1.041268</td>\n",
       "      <td>0.464521</td>\n",
       "      <td>0</td>\n",
       "    </tr>\n",
       "    <tr>\n",
       "      <th>3</th>\n",
       "      <td>-0.162766</td>\n",
       "      <td>-0.510166</td>\n",
       "      <td>-0.348483</td>\n",
       "      <td>-0.166792</td>\n",
       "      <td>0.152929</td>\n",
       "      <td>-0.867810</td>\n",
       "      <td>-1.157489</td>\n",
       "      <td>-0.471870</td>\n",
       "      <td>0.932700</td>\n",
       "      <td>1.854919</td>\n",
       "      <td>...</td>\n",
       "      <td>-0.395616</td>\n",
       "      <td>0.160152</td>\n",
       "      <td>-1.308039</td>\n",
       "      <td>-0.635852</td>\n",
       "      <td>1.139097</td>\n",
       "      <td>0.661483</td>\n",
       "      <td>-0.041045</td>\n",
       "      <td>0.464849</td>\n",
       "      <td>-2.702643</td>\n",
       "      <td>0</td>\n",
       "    </tr>\n",
       "    <tr>\n",
       "      <th>4</th>\n",
       "      <td>1.381736</td>\n",
       "      <td>-0.332115</td>\n",
       "      <td>-1.061583</td>\n",
       "      <td>-0.585043</td>\n",
       "      <td>-0.299487</td>\n",
       "      <td>1.504501</td>\n",
       "      <td>0.698723</td>\n",
       "      <td>-0.959224</td>\n",
       "      <td>-0.796920</td>\n",
       "      <td>-0.386506</td>\n",
       "      <td>...</td>\n",
       "      <td>-1.890095</td>\n",
       "      <td>0.644228</td>\n",
       "      <td>-0.705502</td>\n",
       "      <td>0.426899</td>\n",
       "      <td>-0.153879</td>\n",
       "      <td>0.517804</td>\n",
       "      <td>1.003377</td>\n",
       "      <td>-0.582950</td>\n",
       "      <td>0.372384</td>\n",
       "      <td>1</td>\n",
       "    </tr>\n",
       "  </tbody>\n",
       "</table>\n",
       "<p>5 rows × 501 columns</p>\n",
       "</div>"
      ],
      "text/plain": [
       "         x0        x1        x2        x3        x4        x5        x6   \n",
       "0  0.991245  0.050748 -0.343749  0.274253 -1.518734 -0.159455  1.427896  \\\n",
       "1  0.292069  0.962034 -2.349618 -0.440499 -0.494180  0.711639  1.408426   \n",
       "2 -1.379857 -1.239205  1.616920  0.649324 -1.395141  0.643645 -0.374341   \n",
       "3 -0.162766 -0.510166 -0.348483 -0.166792  0.152929 -0.867810 -1.157489   \n",
       "4  1.381736 -0.332115 -1.061583 -0.585043 -0.299487  1.504501  0.698723   \n",
       "\n",
       "         x7        x8        x9  ...      x491      x492      x493      x494   \n",
       "0  1.926818  1.555172 -1.737581  ...  0.226665 -0.147782 -0.024233  1.513658  \\\n",
       "1 -0.238690  1.660926  0.674760  ...  0.157092  0.509665 -1.661400 -0.502276   \n",
       "2  0.378370  1.182380  0.977513  ... -0.817294 -0.561936  0.638945 -0.571702   \n",
       "3 -0.471870  0.932700  1.854919  ... -0.395616  0.160152 -1.308039 -0.635852   \n",
       "4 -0.959224 -0.796920 -0.386506  ... -1.890095  0.644228 -0.705502  0.426899   \n",
       "\n",
       "       x495      x496      x497      x498      x499  target  \n",
       "0  0.928057  0.449303  0.071110  1.468139  0.208218       1  \n",
       "1  0.502979 -1.098843 -1.753755  2.173440  1.090410       0  \n",
       "2  0.136797  0.895805 -0.958593  1.041268  0.464521       0  \n",
       "3  1.139097  0.661483 -0.041045  0.464849 -2.702643       0  \n",
       "4 -0.153879  0.517804  1.003377 -0.582950  0.372384       1  \n",
       "\n",
       "[5 rows x 501 columns]"
      ]
     },
     "execution_count": 2,
     "metadata": {},
     "output_type": "execute_result"
    }
   ],
   "source": [
    "df = pd.read_csv(\"dataset_classificacao.csv\")\n",
    "df.head()"
   ]
  },
  {
   "cell_type": "code",
   "execution_count": 3,
   "id": "752904a6",
   "metadata": {},
   "outputs": [],
   "source": [
    "TARGET = 'target'\n",
    "FEATURES = [i for i in df.columns if i != TARGET]"
   ]
  },
  {
   "cell_type": "code",
   "execution_count": 4,
   "id": "3f55cd37",
   "metadata": {},
   "outputs": [],
   "source": [
    "X = df[FEATURES]\n",
    "y = df[TARGET]"
   ]
  },
  {
   "cell_type": "code",
   "execution_count": 5,
   "id": "4e78225b",
   "metadata": {},
   "outputs": [],
   "source": [
    "X_train, X_pre, y_train, y_pre = train_test_split(X, y, test_size=.40, random_state=42)\n",
    "X_test, X_val, y_test, y_val = train_test_split(X_pre, y_pre, test_size=.5, random_state=42)"
   ]
  },
  {
   "cell_type": "code",
   "execution_count": 6,
   "id": "51947001",
   "metadata": {},
   "outputs": [
    {
     "name": "stdout",
     "output_type": "stream",
     "text": [
      "(1200, 500) (400, 500) (400, 500)\n"
     ]
    }
   ],
   "source": [
    "print(X_train.shape, X_test.shape, X_val.shape)"
   ]
  },
  {
   "cell_type": "markdown",
   "id": "820c1eb1",
   "metadata": {},
   "source": [
    "# Decision Tree"
   ]
  },
  {
   "cell_type": "code",
   "execution_count": null,
   "id": "4e1769ed",
   "metadata": {},
   "outputs": [
    {
     "name": "stderr",
     "output_type": "stream",
     "text": [
      "[I 2025-05-12 14:41:45,806] A new study created in memory with name: no-name-5ffcf719-be99-4df4-b96d-5618d404d564\n",
      "[I 2025-05-12 14:41:46,059] Trial 0 finished with value: 0.815 and parameters: {'ccp': 0.0004529035721817811}. Best is trial 0 with value: 0.815.\n",
      "[I 2025-05-12 14:41:46,296] Trial 1 finished with value: 0.815 and parameters: {'ccp': 6.563913791220479e-06}. Best is trial 0 with value: 0.815.\n",
      "[I 2025-05-12 14:41:46,531] Trial 2 finished with value: 0.815 and parameters: {'ccp': 1.0159011599885543e-06}. Best is trial 0 with value: 0.815.\n",
      "[I 2025-05-12 14:41:46,780] Trial 3 finished with value: 0.815 and parameters: {'ccp': 9.830299310361395e-05}. Best is trial 0 with value: 0.815.\n",
      "[I 2025-05-12 14:41:47,018] Trial 4 finished with value: 0.815 and parameters: {'ccp': 1.4732352510715832e-05}. Best is trial 0 with value: 0.815.\n",
      "[I 2025-05-12 14:41:47,256] Trial 5 finished with value: 0.815 and parameters: {'ccp': 1.443034015280036e-05}. Best is trial 0 with value: 0.815.\n",
      "[I 2025-05-12 14:41:47,496] Trial 6 finished with value: 0.815 and parameters: {'ccp': 6.637286844570633e-07}. Best is trial 0 with value: 0.815.\n",
      "[I 2025-05-12 14:41:47,735] Trial 7 finished with value: 0.815 and parameters: {'ccp': 3.6780688055106633e-06}. Best is trial 0 with value: 0.815.\n",
      "[I 2025-05-12 14:41:47,972] Trial 8 finished with value: 0.505 and parameters: {'ccp': 0.33789932033262393}. Best is trial 0 with value: 0.815.\n",
      "[I 2025-05-12 14:41:48,210] Trial 9 finished with value: 0.8475 and parameters: {'ccp': 0.015407386566079513}. Best is trial 9 with value: 0.8475.\n",
      "[I 2025-05-12 14:41:48,449] Trial 10 finished with value: 0.505 and parameters: {'ccp': 0.23729454490352858}. Best is trial 9 with value: 0.8475.\n",
      "[I 2025-05-12 14:41:48,687] Trial 11 finished with value: 0.865 and parameters: {'ccp': 0.00793046026606327}. Best is trial 11 with value: 0.865.\n",
      "[I 2025-05-12 14:41:48,926] Trial 12 finished with value: 0.505 and parameters: {'ccp': 93.06998656148807}. Best is trial 11 with value: 0.865.\n",
      "[I 2025-05-12 14:41:49,162] Trial 13 finished with value: 0.8 and parameters: {'ccp': 0.03153250911569422}. Best is trial 11 with value: 0.865.\n",
      "[I 2025-05-12 14:41:49,402] Trial 14 finished with value: 0.8475 and parameters: {'ccp': 0.015061187570017948}. Best is trial 11 with value: 0.865.\n",
      "[I 2025-05-12 14:41:49,645] Trial 15 finished with value: 0.815 and parameters: {'ccp': 1.7109229332510878e-08}. Best is trial 11 with value: 0.865.\n",
      "[I 2025-05-12 14:41:49,881] Trial 16 finished with value: 0.505 and parameters: {'ccp': 9.719977200845234}. Best is trial 11 with value: 0.865.\n",
      "[I 2025-05-12 14:41:50,116] Trial 17 finished with value: 0.8525 and parameters: {'ccp': 0.004184152821362153}. Best is trial 11 with value: 0.865.\n",
      "[I 2025-05-12 14:41:50,359] Trial 18 finished with value: 0.82 and parameters: {'ccp': 0.0016459107969732112}. Best is trial 11 with value: 0.865.\n",
      "[I 2025-05-12 14:41:50,597] Trial 19 finished with value: 0.505 and parameters: {'ccp': 0.5442299067136568}. Best is trial 11 with value: 0.865.\n",
      "[I 2025-05-12 14:41:50,837] Trial 20 finished with value: 0.82 and parameters: {'ccp': 0.001652097850540131}. Best is trial 11 with value: 0.865.\n",
      "[I 2025-05-12 14:41:51,079] Trial 21 finished with value: 0.8475 and parameters: {'ccp': 0.01403829252921896}. Best is trial 11 with value: 0.865.\n",
      "[I 2025-05-12 14:41:51,316] Trial 22 finished with value: 0.7475 and parameters: {'ccp': 0.04319864384688805}. Best is trial 11 with value: 0.865.\n",
      "[I 2025-05-12 14:41:51,558] Trial 23 finished with value: 0.815 and parameters: {'ccp': 0.00022915380797956707}. Best is trial 11 with value: 0.865.\n",
      "[I 2025-05-12 14:41:51,796] Trial 24 finished with value: 0.505 and parameters: {'ccp': 3.3882047422489}. Best is trial 11 with value: 0.865.\n",
      "[I 2025-05-12 14:41:52,037] Trial 25 finished with value: 0.8525 and parameters: {'ccp': 0.004181396541962173}. Best is trial 11 with value: 0.865.\n",
      "[I 2025-05-12 14:41:52,279] Trial 26 finished with value: 0.835 and parameters: {'ccp': 0.002308918422838717}. Best is trial 11 with value: 0.865.\n",
      "[I 2025-05-12 14:41:52,520] Trial 27 finished with value: 0.815 and parameters: {'ccp': 9.220712599534669e-05}. Best is trial 11 with value: 0.865.\n",
      "[I 2025-05-12 14:41:52,758] Trial 28 finished with value: 0.71 and parameters: {'ccp': 0.11586069522970509}. Best is trial 11 with value: 0.865.\n",
      "[I 2025-05-12 14:41:52,995] Trial 29 finished with value: 0.8475 and parameters: {'ccp': 0.004464702169273618}. Best is trial 11 with value: 0.865.\n",
      "[I 2025-05-12 14:41:53,238] Trial 30 finished with value: 0.505 and parameters: {'ccp': 2.8637304317617835}. Best is trial 11 with value: 0.865.\n",
      "[I 2025-05-12 14:41:53,474] Trial 31 finished with value: 0.815 and parameters: {'ccp': 0.0004238150277041}. Best is trial 11 with value: 0.865.\n",
      "[I 2025-05-12 14:41:53,732] Trial 32 finished with value: 0.865 and parameters: {'ccp': 0.0070064949893840454}. Best is trial 11 with value: 0.865.\n",
      "[I 2025-05-12 14:41:53,968] Trial 33 finished with value: 0.855 and parameters: {'ccp': 0.005327888328271678}. Best is trial 11 with value: 0.865.\n",
      "[I 2025-05-12 14:41:54,219] Trial 34 finished with value: 0.71 and parameters: {'ccp': 0.08404224545437959}. Best is trial 11 with value: 0.865.\n",
      "[I 2025-05-12 14:41:54,461] Trial 35 finished with value: 0.815 and parameters: {'ccp': 9.772361054910766e-05}. Best is trial 11 with value: 0.865.\n",
      "[I 2025-05-12 14:41:54,701] Trial 36 finished with value: 0.815 and parameters: {'ccp': 0.0005279002675602037}. Best is trial 11 with value: 0.865.\n",
      "[I 2025-05-12 14:41:54,943] Trial 37 finished with value: 0.865 and parameters: {'ccp': 0.00698355776603903}. Best is trial 11 with value: 0.865.\n",
      "[I 2025-05-12 14:41:55,185] Trial 38 finished with value: 0.505 and parameters: {'ccp': 0.7249752898383895}. Best is trial 11 with value: 0.865.\n",
      "[I 2025-05-12 14:41:55,427] Trial 39 finished with value: 0.815 and parameters: {'ccp': 5.456886737536222e-05}. Best is trial 11 with value: 0.865.\n",
      "[I 2025-05-12 14:41:55,682] Trial 40 finished with value: 0.8625 and parameters: {'ccp': 0.0087996898333454}. Best is trial 11 with value: 0.865.\n",
      "[I 2025-05-12 14:41:55,918] Trial 41 finished with value: 0.865 and parameters: {'ccp': 0.00827739314888563}. Best is trial 11 with value: 0.865.\n",
      "[I 2025-05-12 14:41:56,152] Trial 42 finished with value: 0.815 and parameters: {'ccp': 0.0006752912677592521}. Best is trial 11 with value: 0.865.\n",
      "[I 2025-05-12 14:41:56,395] Trial 43 finished with value: 0.8475 and parameters: {'ccp': 0.014006094714122128}. Best is trial 11 with value: 0.865.\n",
      "[I 2025-05-12 14:41:56,640] Trial 44 finished with value: 0.71 and parameters: {'ccp': 0.07736430002901944}. Best is trial 11 with value: 0.865.\n",
      "[I 2025-05-12 14:41:56,886] Trial 45 finished with value: 0.8 and parameters: {'ccp': 0.026213034553957456}. Best is trial 11 with value: 0.865.\n",
      "[I 2025-05-12 14:41:57,120] Trial 46 finished with value: 0.815 and parameters: {'ccp': 1.839313405384698e-05}. Best is trial 11 with value: 0.865.\n",
      "[I 2025-05-12 14:41:57,367] Trial 47 finished with value: 0.8575 and parameters: {'ccp': 0.006170747801461335}. Best is trial 11 with value: 0.865.\n",
      "[I 2025-05-12 14:41:57,608] Trial 48 finished with value: 0.505 and parameters: {'ccp': 0.15708248360409735}. Best is trial 11 with value: 0.865.\n",
      "[I 2025-05-12 14:41:57,843] Trial 49 finished with value: 0.815 and parameters: {'ccp': 0.0002407993432357752}. Best is trial 11 with value: 0.865.\n"
     ]
    }
   ],
   "source": [
    "def objective(trial):\n",
    "    tree = DecisionTreeClassifier(\n",
    "        # Default\n",
    "        criterion = 'gini',\n",
    "        splitter = 'best',\n",
    "        max_depth = None,\n",
    "        min_samples_split = 2,\n",
    "        min_samples_leaf = 1,\n",
    "        min_weight_fraction_leaf = 0,\n",
    "        max_features = None,\n",
    "        max_leaf_nodes = None,\n",
    "        min_impurity_decrease=0,\n",
    "        class_weight=None,\n",
    "\n",
    "        # Different from default\n",
    "        random_state = 42,\n",
    "        ccp_alpha = trial.suggest_float('ccp', 1e-8, 100, log=True)\n",
    "    )\n",
    "\n",
    "    tree.fit(X_train, y_train)\n",
    "    pred = tree.predict(X_val)\n",
    "\n",
    "    return accuracy_score(y_val, pred)\n",
    "\n",
    "study_tree = optuna.create_study(direction='maximize')\n",
    "study_tree.optimize(objective, n_trials=50)"
   ]
  },
  {
   "cell_type": "code",
   "execution_count": 21,
   "id": "a011f1d3",
   "metadata": {},
   "outputs": [
    {
     "data": {
      "application/vnd.plotly.v1+json": {
       "config": {
        "plotlyServerURL": "https://plot.ly"
       },
       "data": [
        {
         "marker": {
          "color": [
           0,
           1,
           2,
           3,
           4,
           5,
           6,
           7,
           8,
           9,
           10,
           11,
           12,
           13,
           14,
           15,
           16,
           17,
           18,
           19,
           20,
           21,
           22,
           23,
           24,
           25,
           26,
           27,
           28,
           29,
           30,
           31,
           32,
           33,
           34,
           35,
           36,
           37,
           38,
           39,
           40,
           41,
           42,
           43,
           44,
           45,
           46,
           47,
           48,
           49
          ],
          "colorbar": {
           "title": {
            "text": "Trial"
           },
           "x": 1,
           "xpad": 40
          },
          "colorscale": [
           [
            0,
            "rgb(247,251,255)"
           ],
           [
            0.125,
            "rgb(222,235,247)"
           ],
           [
            0.25,
            "rgb(198,219,239)"
           ],
           [
            0.375,
            "rgb(158,202,225)"
           ],
           [
            0.5,
            "rgb(107,174,214)"
           ],
           [
            0.625,
            "rgb(66,146,198)"
           ],
           [
            0.75,
            "rgb(33,113,181)"
           ],
           [
            0.875,
            "rgb(8,81,156)"
           ],
           [
            1,
            "rgb(8,48,107)"
           ]
          ],
          "line": {
           "color": "Grey",
           "width": 0.5
          }
         },
         "mode": "markers",
         "name": "Feasible Trial",
         "showlegend": false,
         "type": "scatter",
         "x": [
          0.0004529035721817811,
          0.000006563913791220479,
          0.0000010159011599885543,
          0.00009830299310361395,
          0.000014732352510715832,
          0.00001443034015280036,
          6.637286844570633e-7,
          0.0000036780688055106633,
          0.33789932033262393,
          0.015407386566079513,
          0.23729454490352858,
          0.00793046026606327,
          93.06998656148807,
          0.03153250911569422,
          0.015061187570017948,
          1.7109229332510878e-8,
          9.719977200845234,
          0.004184152821362153,
          0.0016459107969732112,
          0.5442299067136568,
          0.001652097850540131,
          0.01403829252921896,
          0.04319864384688805,
          0.00022915380797956707,
          3.3882047422489,
          0.004181396541962173,
          0.002308918422838717,
          0.00009220712599534669,
          0.11586069522970509,
          0.004464702169273618,
          2.8637304317617835,
          0.0004238150277041,
          0.0070064949893840454,
          0.005327888328271678,
          0.08404224545437959,
          0.00009772361054910766,
          0.0005279002675602037,
          0.00698355776603903,
          0.7249752898383895,
          0.00005456886737536222,
          0.0087996898333454,
          0.00827739314888563,
          0.0006752912677592521,
          0.014006094714122128,
          0.07736430002901944,
          0.026213034553957456,
          0.00001839313405384698,
          0.006170747801461335,
          0.15708248360409735,
          0.0002407993432357752
         ],
         "y": [
          0.815,
          0.815,
          0.815,
          0.815,
          0.815,
          0.815,
          0.815,
          0.815,
          0.505,
          0.8475,
          0.505,
          0.865,
          0.505,
          0.8,
          0.8475,
          0.815,
          0.505,
          0.8525,
          0.82,
          0.505,
          0.82,
          0.8475,
          0.7475,
          0.815,
          0.505,
          0.8525,
          0.835,
          0.815,
          0.71,
          0.8475,
          0.505,
          0.815,
          0.865,
          0.855,
          0.71,
          0.815,
          0.815,
          0.865,
          0.505,
          0.815,
          0.8625,
          0.865,
          0.815,
          0.8475,
          0.71,
          0.8,
          0.815,
          0.8575,
          0.505,
          0.815
         ]
        }
       ],
       "layout": {
        "template": {
         "data": {
          "bar": [
           {
            "error_x": {
             "color": "#2a3f5f"
            },
            "error_y": {
             "color": "#2a3f5f"
            },
            "marker": {
             "line": {
              "color": "#E5ECF6",
              "width": 0.5
             },
             "pattern": {
              "fillmode": "overlay",
              "size": 10,
              "solidity": 0.2
             }
            },
            "type": "bar"
           }
          ],
          "barpolar": [
           {
            "marker": {
             "line": {
              "color": "#E5ECF6",
              "width": 0.5
             },
             "pattern": {
              "fillmode": "overlay",
              "size": 10,
              "solidity": 0.2
             }
            },
            "type": "barpolar"
           }
          ],
          "carpet": [
           {
            "aaxis": {
             "endlinecolor": "#2a3f5f",
             "gridcolor": "white",
             "linecolor": "white",
             "minorgridcolor": "white",
             "startlinecolor": "#2a3f5f"
            },
            "baxis": {
             "endlinecolor": "#2a3f5f",
             "gridcolor": "white",
             "linecolor": "white",
             "minorgridcolor": "white",
             "startlinecolor": "#2a3f5f"
            },
            "type": "carpet"
           }
          ],
          "choropleth": [
           {
            "colorbar": {
             "outlinewidth": 0,
             "ticks": ""
            },
            "type": "choropleth"
           }
          ],
          "contour": [
           {
            "colorbar": {
             "outlinewidth": 0,
             "ticks": ""
            },
            "colorscale": [
             [
              0,
              "#0d0887"
             ],
             [
              0.1111111111111111,
              "#46039f"
             ],
             [
              0.2222222222222222,
              "#7201a8"
             ],
             [
              0.3333333333333333,
              "#9c179e"
             ],
             [
              0.4444444444444444,
              "#bd3786"
             ],
             [
              0.5555555555555556,
              "#d8576b"
             ],
             [
              0.6666666666666666,
              "#ed7953"
             ],
             [
              0.7777777777777778,
              "#fb9f3a"
             ],
             [
              0.8888888888888888,
              "#fdca26"
             ],
             [
              1,
              "#f0f921"
             ]
            ],
            "type": "contour"
           }
          ],
          "contourcarpet": [
           {
            "colorbar": {
             "outlinewidth": 0,
             "ticks": ""
            },
            "type": "contourcarpet"
           }
          ],
          "heatmap": [
           {
            "colorbar": {
             "outlinewidth": 0,
             "ticks": ""
            },
            "colorscale": [
             [
              0,
              "#0d0887"
             ],
             [
              0.1111111111111111,
              "#46039f"
             ],
             [
              0.2222222222222222,
              "#7201a8"
             ],
             [
              0.3333333333333333,
              "#9c179e"
             ],
             [
              0.4444444444444444,
              "#bd3786"
             ],
             [
              0.5555555555555556,
              "#d8576b"
             ],
             [
              0.6666666666666666,
              "#ed7953"
             ],
             [
              0.7777777777777778,
              "#fb9f3a"
             ],
             [
              0.8888888888888888,
              "#fdca26"
             ],
             [
              1,
              "#f0f921"
             ]
            ],
            "type": "heatmap"
           }
          ],
          "heatmapgl": [
           {
            "colorbar": {
             "outlinewidth": 0,
             "ticks": ""
            },
            "colorscale": [
             [
              0,
              "#0d0887"
             ],
             [
              0.1111111111111111,
              "#46039f"
             ],
             [
              0.2222222222222222,
              "#7201a8"
             ],
             [
              0.3333333333333333,
              "#9c179e"
             ],
             [
              0.4444444444444444,
              "#bd3786"
             ],
             [
              0.5555555555555556,
              "#d8576b"
             ],
             [
              0.6666666666666666,
              "#ed7953"
             ],
             [
              0.7777777777777778,
              "#fb9f3a"
             ],
             [
              0.8888888888888888,
              "#fdca26"
             ],
             [
              1,
              "#f0f921"
             ]
            ],
            "type": "heatmapgl"
           }
          ],
          "histogram": [
           {
            "marker": {
             "pattern": {
              "fillmode": "overlay",
              "size": 10,
              "solidity": 0.2
             }
            },
            "type": "histogram"
           }
          ],
          "histogram2d": [
           {
            "colorbar": {
             "outlinewidth": 0,
             "ticks": ""
            },
            "colorscale": [
             [
              0,
              "#0d0887"
             ],
             [
              0.1111111111111111,
              "#46039f"
             ],
             [
              0.2222222222222222,
              "#7201a8"
             ],
             [
              0.3333333333333333,
              "#9c179e"
             ],
             [
              0.4444444444444444,
              "#bd3786"
             ],
             [
              0.5555555555555556,
              "#d8576b"
             ],
             [
              0.6666666666666666,
              "#ed7953"
             ],
             [
              0.7777777777777778,
              "#fb9f3a"
             ],
             [
              0.8888888888888888,
              "#fdca26"
             ],
             [
              1,
              "#f0f921"
             ]
            ],
            "type": "histogram2d"
           }
          ],
          "histogram2dcontour": [
           {
            "colorbar": {
             "outlinewidth": 0,
             "ticks": ""
            },
            "colorscale": [
             [
              0,
              "#0d0887"
             ],
             [
              0.1111111111111111,
              "#46039f"
             ],
             [
              0.2222222222222222,
              "#7201a8"
             ],
             [
              0.3333333333333333,
              "#9c179e"
             ],
             [
              0.4444444444444444,
              "#bd3786"
             ],
             [
              0.5555555555555556,
              "#d8576b"
             ],
             [
              0.6666666666666666,
              "#ed7953"
             ],
             [
              0.7777777777777778,
              "#fb9f3a"
             ],
             [
              0.8888888888888888,
              "#fdca26"
             ],
             [
              1,
              "#f0f921"
             ]
            ],
            "type": "histogram2dcontour"
           }
          ],
          "mesh3d": [
           {
            "colorbar": {
             "outlinewidth": 0,
             "ticks": ""
            },
            "type": "mesh3d"
           }
          ],
          "parcoords": [
           {
            "line": {
             "colorbar": {
              "outlinewidth": 0,
              "ticks": ""
             }
            },
            "type": "parcoords"
           }
          ],
          "pie": [
           {
            "automargin": true,
            "type": "pie"
           }
          ],
          "scatter": [
           {
            "fillpattern": {
             "fillmode": "overlay",
             "size": 10,
             "solidity": 0.2
            },
            "type": "scatter"
           }
          ],
          "scatter3d": [
           {
            "line": {
             "colorbar": {
              "outlinewidth": 0,
              "ticks": ""
             }
            },
            "marker": {
             "colorbar": {
              "outlinewidth": 0,
              "ticks": ""
             }
            },
            "type": "scatter3d"
           }
          ],
          "scattercarpet": [
           {
            "marker": {
             "colorbar": {
              "outlinewidth": 0,
              "ticks": ""
             }
            },
            "type": "scattercarpet"
           }
          ],
          "scattergeo": [
           {
            "marker": {
             "colorbar": {
              "outlinewidth": 0,
              "ticks": ""
             }
            },
            "type": "scattergeo"
           }
          ],
          "scattergl": [
           {
            "marker": {
             "colorbar": {
              "outlinewidth": 0,
              "ticks": ""
             }
            },
            "type": "scattergl"
           }
          ],
          "scattermapbox": [
           {
            "marker": {
             "colorbar": {
              "outlinewidth": 0,
              "ticks": ""
             }
            },
            "type": "scattermapbox"
           }
          ],
          "scatterpolar": [
           {
            "marker": {
             "colorbar": {
              "outlinewidth": 0,
              "ticks": ""
             }
            },
            "type": "scatterpolar"
           }
          ],
          "scatterpolargl": [
           {
            "marker": {
             "colorbar": {
              "outlinewidth": 0,
              "ticks": ""
             }
            },
            "type": "scatterpolargl"
           }
          ],
          "scatterternary": [
           {
            "marker": {
             "colorbar": {
              "outlinewidth": 0,
              "ticks": ""
             }
            },
            "type": "scatterternary"
           }
          ],
          "surface": [
           {
            "colorbar": {
             "outlinewidth": 0,
             "ticks": ""
            },
            "colorscale": [
             [
              0,
              "#0d0887"
             ],
             [
              0.1111111111111111,
              "#46039f"
             ],
             [
              0.2222222222222222,
              "#7201a8"
             ],
             [
              0.3333333333333333,
              "#9c179e"
             ],
             [
              0.4444444444444444,
              "#bd3786"
             ],
             [
              0.5555555555555556,
              "#d8576b"
             ],
             [
              0.6666666666666666,
              "#ed7953"
             ],
             [
              0.7777777777777778,
              "#fb9f3a"
             ],
             [
              0.8888888888888888,
              "#fdca26"
             ],
             [
              1,
              "#f0f921"
             ]
            ],
            "type": "surface"
           }
          ],
          "table": [
           {
            "cells": {
             "fill": {
              "color": "#EBF0F8"
             },
             "line": {
              "color": "white"
             }
            },
            "header": {
             "fill": {
              "color": "#C8D4E3"
             },
             "line": {
              "color": "white"
             }
            },
            "type": "table"
           }
          ]
         },
         "layout": {
          "annotationdefaults": {
           "arrowcolor": "#2a3f5f",
           "arrowhead": 0,
           "arrowwidth": 1
          },
          "autotypenumbers": "strict",
          "coloraxis": {
           "colorbar": {
            "outlinewidth": 0,
            "ticks": ""
           }
          },
          "colorscale": {
           "diverging": [
            [
             0,
             "#8e0152"
            ],
            [
             0.1,
             "#c51b7d"
            ],
            [
             0.2,
             "#de77ae"
            ],
            [
             0.3,
             "#f1b6da"
            ],
            [
             0.4,
             "#fde0ef"
            ],
            [
             0.5,
             "#f7f7f7"
            ],
            [
             0.6,
             "#e6f5d0"
            ],
            [
             0.7,
             "#b8e186"
            ],
            [
             0.8,
             "#7fbc41"
            ],
            [
             0.9,
             "#4d9221"
            ],
            [
             1,
             "#276419"
            ]
           ],
           "sequential": [
            [
             0,
             "#0d0887"
            ],
            [
             0.1111111111111111,
             "#46039f"
            ],
            [
             0.2222222222222222,
             "#7201a8"
            ],
            [
             0.3333333333333333,
             "#9c179e"
            ],
            [
             0.4444444444444444,
             "#bd3786"
            ],
            [
             0.5555555555555556,
             "#d8576b"
            ],
            [
             0.6666666666666666,
             "#ed7953"
            ],
            [
             0.7777777777777778,
             "#fb9f3a"
            ],
            [
             0.8888888888888888,
             "#fdca26"
            ],
            [
             1,
             "#f0f921"
            ]
           ],
           "sequentialminus": [
            [
             0,
             "#0d0887"
            ],
            [
             0.1111111111111111,
             "#46039f"
            ],
            [
             0.2222222222222222,
             "#7201a8"
            ],
            [
             0.3333333333333333,
             "#9c179e"
            ],
            [
             0.4444444444444444,
             "#bd3786"
            ],
            [
             0.5555555555555556,
             "#d8576b"
            ],
            [
             0.6666666666666666,
             "#ed7953"
            ],
            [
             0.7777777777777778,
             "#fb9f3a"
            ],
            [
             0.8888888888888888,
             "#fdca26"
            ],
            [
             1,
             "#f0f921"
            ]
           ]
          },
          "colorway": [
           "#636efa",
           "#EF553B",
           "#00cc96",
           "#ab63fa",
           "#FFA15A",
           "#19d3f3",
           "#FF6692",
           "#B6E880",
           "#FF97FF",
           "#FECB52"
          ],
          "font": {
           "color": "#2a3f5f"
          },
          "geo": {
           "bgcolor": "white",
           "lakecolor": "white",
           "landcolor": "#E5ECF6",
           "showlakes": true,
           "showland": true,
           "subunitcolor": "white"
          },
          "hoverlabel": {
           "align": "left"
          },
          "hovermode": "closest",
          "mapbox": {
           "style": "light"
          },
          "paper_bgcolor": "white",
          "plot_bgcolor": "#E5ECF6",
          "polar": {
           "angularaxis": {
            "gridcolor": "white",
            "linecolor": "white",
            "ticks": ""
           },
           "bgcolor": "#E5ECF6",
           "radialaxis": {
            "gridcolor": "white",
            "linecolor": "white",
            "ticks": ""
           }
          },
          "scene": {
           "xaxis": {
            "backgroundcolor": "#E5ECF6",
            "gridcolor": "white",
            "gridwidth": 2,
            "linecolor": "white",
            "showbackground": true,
            "ticks": "",
            "zerolinecolor": "white"
           },
           "yaxis": {
            "backgroundcolor": "#E5ECF6",
            "gridcolor": "white",
            "gridwidth": 2,
            "linecolor": "white",
            "showbackground": true,
            "ticks": "",
            "zerolinecolor": "white"
           },
           "zaxis": {
            "backgroundcolor": "#E5ECF6",
            "gridcolor": "white",
            "gridwidth": 2,
            "linecolor": "white",
            "showbackground": true,
            "ticks": "",
            "zerolinecolor": "white"
           }
          },
          "shapedefaults": {
           "line": {
            "color": "#2a3f5f"
           }
          },
          "ternary": {
           "aaxis": {
            "gridcolor": "white",
            "linecolor": "white",
            "ticks": ""
           },
           "baxis": {
            "gridcolor": "white",
            "linecolor": "white",
            "ticks": ""
           },
           "bgcolor": "#E5ECF6",
           "caxis": {
            "gridcolor": "white",
            "linecolor": "white",
            "ticks": ""
           }
          },
          "title": {
           "x": 0.05
          },
          "xaxis": {
           "automargin": true,
           "gridcolor": "white",
           "linecolor": "white",
           "ticks": "",
           "title": {
            "standoff": 15
           },
           "zerolinecolor": "white",
           "zerolinewidth": 2
          },
          "yaxis": {
           "automargin": true,
           "gridcolor": "white",
           "linecolor": "white",
           "ticks": "",
           "title": {
            "standoff": 15
           },
           "zerolinecolor": "white",
           "zerolinewidth": 2
          }
         }
        },
        "title": {
         "text": "Slice Plot"
        },
        "xaxis": {
         "title": {
          "text": "ccp"
         },
         "type": "log"
        },
        "yaxis": {
         "title": {
          "text": "Objective Value"
         }
        }
       }
      }
     },
     "metadata": {},
     "output_type": "display_data"
    }
   ],
   "source": [
    "optuna.visualization.plot_slice(study_tree, params=[\"ccp\"])"
   ]
  },
  {
   "cell_type": "code",
   "execution_count": 32,
   "id": "05965b1b",
   "metadata": {},
   "outputs": [
    {
     "data": {
      "text/plain": [
       "{'ccp': 0.00793046026606327}"
      ]
     },
     "execution_count": 32,
     "metadata": {},
     "output_type": "execute_result"
    }
   ],
   "source": [
    "study_tree.best_params"
   ]
  },
  {
   "cell_type": "markdown",
   "id": "b4aebc0d",
   "metadata": {},
   "source": [
    "# KNN"
   ]
  },
  {
   "cell_type": "code",
   "execution_count": 25,
   "id": "880dde2e",
   "metadata": {},
   "outputs": [
    {
     "name": "stderr",
     "output_type": "stream",
     "text": [
      "[I 2025-05-12 14:54:26,334] A new study created in memory with name: no-name-a2e41dd9-820d-4bd0-824e-cef0b1d66b3f\n",
      "[I 2025-05-12 14:54:26,362] Trial 0 finished with value: 0.8025 and parameters: {'neighbors': 31}. Best is trial 0 with value: 0.8025.\n",
      "[I 2025-05-12 14:54:26,381] Trial 1 finished with value: 0.7025 and parameters: {'neighbors': 4}. Best is trial 0 with value: 0.8025.\n",
      "[I 2025-05-12 14:54:26,395] Trial 2 finished with value: 0.7825 and parameters: {'neighbors': 11}. Best is trial 0 with value: 0.8025.\n",
      "[I 2025-05-12 14:54:26,412] Trial 3 finished with value: 0.8075 and parameters: {'neighbors': 30}. Best is trial 3 with value: 0.8075.\n",
      "[I 2025-05-12 14:54:26,427] Trial 4 finished with value: 0.7825 and parameters: {'neighbors': 11}. Best is trial 3 with value: 0.8075.\n",
      "[I 2025-05-12 14:54:26,443] Trial 5 finished with value: 0.8125 and parameters: {'neighbors': 39}. Best is trial 5 with value: 0.8125.\n",
      "[I 2025-05-12 14:54:26,458] Trial 6 finished with value: 0.82 and parameters: {'neighbors': 43}. Best is trial 6 with value: 0.82.\n",
      "[I 2025-05-12 14:54:26,473] Trial 7 finished with value: 0.8125 and parameters: {'neighbors': 41}. Best is trial 6 with value: 0.82.\n",
      "[I 2025-05-12 14:54:26,486] Trial 8 finished with value: 0.77 and parameters: {'neighbors': 9}. Best is trial 6 with value: 0.82.\n",
      "[I 2025-05-12 14:54:26,502] Trial 9 finished with value: 0.8 and parameters: {'neighbors': 37}. Best is trial 6 with value: 0.82.\n",
      "[I 2025-05-12 14:54:26,519] Trial 10 finished with value: 0.8175 and parameters: {'neighbors': 48}. Best is trial 6 with value: 0.82.\n",
      "[I 2025-05-12 14:54:26,536] Trial 11 finished with value: 0.82 and parameters: {'neighbors': 50}. Best is trial 6 with value: 0.82.\n",
      "[I 2025-05-12 14:54:26,555] Trial 12 finished with value: 0.815 and parameters: {'neighbors': 49}. Best is trial 6 with value: 0.82.\n",
      "[I 2025-05-12 14:54:26,572] Trial 13 finished with value: 0.795 and parameters: {'neighbors': 24}. Best is trial 6 with value: 0.82.\n",
      "[I 2025-05-12 14:54:26,590] Trial 14 finished with value: 0.82 and parameters: {'neighbors': 50}. Best is trial 6 with value: 0.82.\n",
      "[I 2025-05-12 14:54:26,607] Trial 15 finished with value: 0.815 and parameters: {'neighbors': 44}. Best is trial 6 with value: 0.82.\n",
      "[I 2025-05-12 14:54:26,624] Trial 16 finished with value: 0.79 and parameters: {'neighbors': 23}. Best is trial 6 with value: 0.82.\n",
      "[I 2025-05-12 14:54:26,641] Trial 17 finished with value: 0.7975 and parameters: {'neighbors': 34}. Best is trial 6 with value: 0.82.\n",
      "[I 2025-05-12 14:54:26,658] Trial 18 finished with value: 0.82 and parameters: {'neighbors': 43}. Best is trial 6 with value: 0.82.\n",
      "[I 2025-05-12 14:54:26,674] Trial 19 finished with value: 0.78 and parameters: {'neighbors': 20}. Best is trial 6 with value: 0.82.\n",
      "[I 2025-05-12 14:54:26,692] Trial 20 finished with value: 0.8275 and parameters: {'neighbors': 45}. Best is trial 20 with value: 0.8275.\n",
      "[I 2025-05-12 14:54:26,710] Trial 21 finished with value: 0.8275 and parameters: {'neighbors': 45}. Best is trial 20 with value: 0.8275.\n",
      "[I 2025-05-12 14:54:26,729] Trial 22 finished with value: 0.8275 and parameters: {'neighbors': 45}. Best is trial 20 with value: 0.8275.\n",
      "[I 2025-05-12 14:54:26,746] Trial 23 finished with value: 0.8 and parameters: {'neighbors': 35}. Best is trial 20 with value: 0.8275.\n",
      "[I 2025-05-12 14:54:26,763] Trial 24 finished with value: 0.825 and parameters: {'neighbors': 46}. Best is trial 20 with value: 0.8275.\n",
      "[I 2025-05-12 14:54:26,780] Trial 25 finished with value: 0.7975 and parameters: {'neighbors': 29}. Best is trial 20 with value: 0.8275.\n",
      "[I 2025-05-12 14:54:26,798] Trial 26 finished with value: 0.8125 and parameters: {'neighbors': 39}. Best is trial 20 with value: 0.8275.\n",
      "[I 2025-05-12 14:54:26,817] Trial 27 finished with value: 0.7875 and parameters: {'neighbors': 19}. Best is trial 20 with value: 0.8275.\n",
      "[I 2025-05-12 14:54:26,836] Trial 28 finished with value: 0.815 and parameters: {'neighbors': 44}. Best is trial 20 with value: 0.8275.\n",
      "[I 2025-05-12 14:54:26,853] Trial 29 finished with value: 0.8025 and parameters: {'neighbors': 33}. Best is trial 20 with value: 0.8275.\n",
      "[I 2025-05-12 14:54:26,871] Trial 30 finished with value: 0.7925 and parameters: {'neighbors': 28}. Best is trial 20 with value: 0.8275.\n",
      "[I 2025-05-12 14:54:26,889] Trial 31 finished with value: 0.825 and parameters: {'neighbors': 46}. Best is trial 20 with value: 0.8275.\n",
      "[I 2025-05-12 14:54:26,930] Trial 32 finished with value: 0.825 and parameters: {'neighbors': 46}. Best is trial 20 with value: 0.8275.\n",
      "[I 2025-05-12 14:54:26,946] Trial 33 finished with value: 0.8 and parameters: {'neighbors': 40}. Best is trial 20 with value: 0.8275.\n",
      "[I 2025-05-12 14:54:26,973] Trial 34 finished with value: 0.825 and parameters: {'neighbors': 46}. Best is trial 20 with value: 0.8275.\n",
      "[I 2025-05-12 14:54:26,992] Trial 35 finished with value: 0.795 and parameters: {'neighbors': 42}. Best is trial 20 with value: 0.8275.\n",
      "[I 2025-05-12 14:54:27,008] Trial 36 finished with value: 0.8 and parameters: {'neighbors': 37}. Best is trial 20 with value: 0.8275.\n",
      "[I 2025-05-12 14:54:27,025] Trial 37 finished with value: 0.6475 and parameters: {'neighbors': 2}. Best is trial 20 with value: 0.8275.\n",
      "[I 2025-05-12 14:54:27,043] Trial 38 finished with value: 0.8175 and parameters: {'neighbors': 47}. Best is trial 20 with value: 0.8275.\n",
      "[I 2025-05-12 14:54:27,059] Trial 39 finished with value: 0.8 and parameters: {'neighbors': 32}. Best is trial 20 with value: 0.8275.\n",
      "[I 2025-05-12 14:54:27,075] Trial 40 finished with value: 0.8 and parameters: {'neighbors': 37}. Best is trial 20 with value: 0.8275.\n",
      "[I 2025-05-12 14:54:27,095] Trial 41 finished with value: 0.8275 and parameters: {'neighbors': 45}. Best is trial 20 with value: 0.8275.\n",
      "[I 2025-05-12 14:54:27,112] Trial 42 finished with value: 0.8125 and parameters: {'neighbors': 41}. Best is trial 20 with value: 0.8275.\n",
      "[I 2025-05-12 14:54:27,129] Trial 43 finished with value: 0.8275 and parameters: {'neighbors': 45}. Best is trial 20 with value: 0.8275.\n",
      "[I 2025-05-12 14:54:27,147] Trial 44 finished with value: 0.8125 and parameters: {'neighbors': 39}. Best is trial 20 with value: 0.8275.\n",
      "[I 2025-05-12 14:54:27,165] Trial 45 finished with value: 0.815 and parameters: {'neighbors': 44}. Best is trial 20 with value: 0.8275.\n",
      "[I 2025-05-12 14:54:27,184] Trial 46 finished with value: 0.8175 and parameters: {'neighbors': 48}. Best is trial 20 with value: 0.8275.\n",
      "[I 2025-05-12 14:54:27,203] Trial 47 finished with value: 0.82 and parameters: {'neighbors': 50}. Best is trial 20 with value: 0.8275.\n",
      "[I 2025-05-12 14:54:27,220] Trial 48 finished with value: 0.795 and parameters: {'neighbors': 42}. Best is trial 20 with value: 0.8275.\n",
      "[I 2025-05-12 14:54:27,239] Trial 49 finished with value: 0.8 and parameters: {'neighbors': 37}. Best is trial 20 with value: 0.8275.\n"
     ]
    },
    {
     "data": {
      "application/vnd.plotly.v1+json": {
       "config": {
        "plotlyServerURL": "https://plot.ly"
       },
       "data": [
        {
         "marker": {
          "color": [
           0,
           1,
           2,
           3,
           4,
           5,
           6,
           7,
           8,
           9,
           10,
           11,
           12,
           13,
           14,
           15,
           16,
           17,
           18,
           19,
           20,
           21,
           22,
           23,
           24,
           25,
           26,
           27,
           28,
           29,
           30,
           31,
           32,
           33,
           34,
           35,
           36,
           37,
           38,
           39,
           40,
           41,
           42,
           43,
           44,
           45,
           46,
           47,
           48,
           49
          ],
          "colorbar": {
           "title": {
            "text": "Trial"
           },
           "x": 1,
           "xpad": 40
          },
          "colorscale": [
           [
            0,
            "rgb(247,251,255)"
           ],
           [
            0.125,
            "rgb(222,235,247)"
           ],
           [
            0.25,
            "rgb(198,219,239)"
           ],
           [
            0.375,
            "rgb(158,202,225)"
           ],
           [
            0.5,
            "rgb(107,174,214)"
           ],
           [
            0.625,
            "rgb(66,146,198)"
           ],
           [
            0.75,
            "rgb(33,113,181)"
           ],
           [
            0.875,
            "rgb(8,81,156)"
           ],
           [
            1,
            "rgb(8,48,107)"
           ]
          ],
          "line": {
           "color": "Grey",
           "width": 0.5
          }
         },
         "mode": "markers",
         "name": "Feasible Trial",
         "showlegend": false,
         "type": "scatter",
         "x": [
          31,
          4,
          11,
          30,
          11,
          39,
          43,
          41,
          9,
          37,
          48,
          50,
          49,
          24,
          50,
          44,
          23,
          34,
          43,
          20,
          45,
          45,
          45,
          35,
          46,
          29,
          39,
          19,
          44,
          33,
          28,
          46,
          46,
          40,
          46,
          42,
          37,
          2,
          47,
          32,
          37,
          45,
          41,
          45,
          39,
          44,
          48,
          50,
          42,
          37
         ],
         "y": [
          0.8025,
          0.7025,
          0.7825,
          0.8075,
          0.7825,
          0.8125,
          0.82,
          0.8125,
          0.77,
          0.8,
          0.8175,
          0.82,
          0.815,
          0.795,
          0.82,
          0.815,
          0.79,
          0.7975,
          0.82,
          0.78,
          0.8275,
          0.8275,
          0.8275,
          0.8,
          0.825,
          0.7975,
          0.8125,
          0.7875,
          0.815,
          0.8025,
          0.7925,
          0.825,
          0.825,
          0.8,
          0.825,
          0.795,
          0.8,
          0.6475,
          0.8175,
          0.8,
          0.8,
          0.8275,
          0.8125,
          0.8275,
          0.8125,
          0.815,
          0.8175,
          0.82,
          0.795,
          0.8
         ]
        }
       ],
       "layout": {
        "template": {
         "data": {
          "bar": [
           {
            "error_x": {
             "color": "#2a3f5f"
            },
            "error_y": {
             "color": "#2a3f5f"
            },
            "marker": {
             "line": {
              "color": "#E5ECF6",
              "width": 0.5
             },
             "pattern": {
              "fillmode": "overlay",
              "size": 10,
              "solidity": 0.2
             }
            },
            "type": "bar"
           }
          ],
          "barpolar": [
           {
            "marker": {
             "line": {
              "color": "#E5ECF6",
              "width": 0.5
             },
             "pattern": {
              "fillmode": "overlay",
              "size": 10,
              "solidity": 0.2
             }
            },
            "type": "barpolar"
           }
          ],
          "carpet": [
           {
            "aaxis": {
             "endlinecolor": "#2a3f5f",
             "gridcolor": "white",
             "linecolor": "white",
             "minorgridcolor": "white",
             "startlinecolor": "#2a3f5f"
            },
            "baxis": {
             "endlinecolor": "#2a3f5f",
             "gridcolor": "white",
             "linecolor": "white",
             "minorgridcolor": "white",
             "startlinecolor": "#2a3f5f"
            },
            "type": "carpet"
           }
          ],
          "choropleth": [
           {
            "colorbar": {
             "outlinewidth": 0,
             "ticks": ""
            },
            "type": "choropleth"
           }
          ],
          "contour": [
           {
            "colorbar": {
             "outlinewidth": 0,
             "ticks": ""
            },
            "colorscale": [
             [
              0,
              "#0d0887"
             ],
             [
              0.1111111111111111,
              "#46039f"
             ],
             [
              0.2222222222222222,
              "#7201a8"
             ],
             [
              0.3333333333333333,
              "#9c179e"
             ],
             [
              0.4444444444444444,
              "#bd3786"
             ],
             [
              0.5555555555555556,
              "#d8576b"
             ],
             [
              0.6666666666666666,
              "#ed7953"
             ],
             [
              0.7777777777777778,
              "#fb9f3a"
             ],
             [
              0.8888888888888888,
              "#fdca26"
             ],
             [
              1,
              "#f0f921"
             ]
            ],
            "type": "contour"
           }
          ],
          "contourcarpet": [
           {
            "colorbar": {
             "outlinewidth": 0,
             "ticks": ""
            },
            "type": "contourcarpet"
           }
          ],
          "heatmap": [
           {
            "colorbar": {
             "outlinewidth": 0,
             "ticks": ""
            },
            "colorscale": [
             [
              0,
              "#0d0887"
             ],
             [
              0.1111111111111111,
              "#46039f"
             ],
             [
              0.2222222222222222,
              "#7201a8"
             ],
             [
              0.3333333333333333,
              "#9c179e"
             ],
             [
              0.4444444444444444,
              "#bd3786"
             ],
             [
              0.5555555555555556,
              "#d8576b"
             ],
             [
              0.6666666666666666,
              "#ed7953"
             ],
             [
              0.7777777777777778,
              "#fb9f3a"
             ],
             [
              0.8888888888888888,
              "#fdca26"
             ],
             [
              1,
              "#f0f921"
             ]
            ],
            "type": "heatmap"
           }
          ],
          "heatmapgl": [
           {
            "colorbar": {
             "outlinewidth": 0,
             "ticks": ""
            },
            "colorscale": [
             [
              0,
              "#0d0887"
             ],
             [
              0.1111111111111111,
              "#46039f"
             ],
             [
              0.2222222222222222,
              "#7201a8"
             ],
             [
              0.3333333333333333,
              "#9c179e"
             ],
             [
              0.4444444444444444,
              "#bd3786"
             ],
             [
              0.5555555555555556,
              "#d8576b"
             ],
             [
              0.6666666666666666,
              "#ed7953"
             ],
             [
              0.7777777777777778,
              "#fb9f3a"
             ],
             [
              0.8888888888888888,
              "#fdca26"
             ],
             [
              1,
              "#f0f921"
             ]
            ],
            "type": "heatmapgl"
           }
          ],
          "histogram": [
           {
            "marker": {
             "pattern": {
              "fillmode": "overlay",
              "size": 10,
              "solidity": 0.2
             }
            },
            "type": "histogram"
           }
          ],
          "histogram2d": [
           {
            "colorbar": {
             "outlinewidth": 0,
             "ticks": ""
            },
            "colorscale": [
             [
              0,
              "#0d0887"
             ],
             [
              0.1111111111111111,
              "#46039f"
             ],
             [
              0.2222222222222222,
              "#7201a8"
             ],
             [
              0.3333333333333333,
              "#9c179e"
             ],
             [
              0.4444444444444444,
              "#bd3786"
             ],
             [
              0.5555555555555556,
              "#d8576b"
             ],
             [
              0.6666666666666666,
              "#ed7953"
             ],
             [
              0.7777777777777778,
              "#fb9f3a"
             ],
             [
              0.8888888888888888,
              "#fdca26"
             ],
             [
              1,
              "#f0f921"
             ]
            ],
            "type": "histogram2d"
           }
          ],
          "histogram2dcontour": [
           {
            "colorbar": {
             "outlinewidth": 0,
             "ticks": ""
            },
            "colorscale": [
             [
              0,
              "#0d0887"
             ],
             [
              0.1111111111111111,
              "#46039f"
             ],
             [
              0.2222222222222222,
              "#7201a8"
             ],
             [
              0.3333333333333333,
              "#9c179e"
             ],
             [
              0.4444444444444444,
              "#bd3786"
             ],
             [
              0.5555555555555556,
              "#d8576b"
             ],
             [
              0.6666666666666666,
              "#ed7953"
             ],
             [
              0.7777777777777778,
              "#fb9f3a"
             ],
             [
              0.8888888888888888,
              "#fdca26"
             ],
             [
              1,
              "#f0f921"
             ]
            ],
            "type": "histogram2dcontour"
           }
          ],
          "mesh3d": [
           {
            "colorbar": {
             "outlinewidth": 0,
             "ticks": ""
            },
            "type": "mesh3d"
           }
          ],
          "parcoords": [
           {
            "line": {
             "colorbar": {
              "outlinewidth": 0,
              "ticks": ""
             }
            },
            "type": "parcoords"
           }
          ],
          "pie": [
           {
            "automargin": true,
            "type": "pie"
           }
          ],
          "scatter": [
           {
            "fillpattern": {
             "fillmode": "overlay",
             "size": 10,
             "solidity": 0.2
            },
            "type": "scatter"
           }
          ],
          "scatter3d": [
           {
            "line": {
             "colorbar": {
              "outlinewidth": 0,
              "ticks": ""
             }
            },
            "marker": {
             "colorbar": {
              "outlinewidth": 0,
              "ticks": ""
             }
            },
            "type": "scatter3d"
           }
          ],
          "scattercarpet": [
           {
            "marker": {
             "colorbar": {
              "outlinewidth": 0,
              "ticks": ""
             }
            },
            "type": "scattercarpet"
           }
          ],
          "scattergeo": [
           {
            "marker": {
             "colorbar": {
              "outlinewidth": 0,
              "ticks": ""
             }
            },
            "type": "scattergeo"
           }
          ],
          "scattergl": [
           {
            "marker": {
             "colorbar": {
              "outlinewidth": 0,
              "ticks": ""
             }
            },
            "type": "scattergl"
           }
          ],
          "scattermapbox": [
           {
            "marker": {
             "colorbar": {
              "outlinewidth": 0,
              "ticks": ""
             }
            },
            "type": "scattermapbox"
           }
          ],
          "scatterpolar": [
           {
            "marker": {
             "colorbar": {
              "outlinewidth": 0,
              "ticks": ""
             }
            },
            "type": "scatterpolar"
           }
          ],
          "scatterpolargl": [
           {
            "marker": {
             "colorbar": {
              "outlinewidth": 0,
              "ticks": ""
             }
            },
            "type": "scatterpolargl"
           }
          ],
          "scatterternary": [
           {
            "marker": {
             "colorbar": {
              "outlinewidth": 0,
              "ticks": ""
             }
            },
            "type": "scatterternary"
           }
          ],
          "surface": [
           {
            "colorbar": {
             "outlinewidth": 0,
             "ticks": ""
            },
            "colorscale": [
             [
              0,
              "#0d0887"
             ],
             [
              0.1111111111111111,
              "#46039f"
             ],
             [
              0.2222222222222222,
              "#7201a8"
             ],
             [
              0.3333333333333333,
              "#9c179e"
             ],
             [
              0.4444444444444444,
              "#bd3786"
             ],
             [
              0.5555555555555556,
              "#d8576b"
             ],
             [
              0.6666666666666666,
              "#ed7953"
             ],
             [
              0.7777777777777778,
              "#fb9f3a"
             ],
             [
              0.8888888888888888,
              "#fdca26"
             ],
             [
              1,
              "#f0f921"
             ]
            ],
            "type": "surface"
           }
          ],
          "table": [
           {
            "cells": {
             "fill": {
              "color": "#EBF0F8"
             },
             "line": {
              "color": "white"
             }
            },
            "header": {
             "fill": {
              "color": "#C8D4E3"
             },
             "line": {
              "color": "white"
             }
            },
            "type": "table"
           }
          ]
         },
         "layout": {
          "annotationdefaults": {
           "arrowcolor": "#2a3f5f",
           "arrowhead": 0,
           "arrowwidth": 1
          },
          "autotypenumbers": "strict",
          "coloraxis": {
           "colorbar": {
            "outlinewidth": 0,
            "ticks": ""
           }
          },
          "colorscale": {
           "diverging": [
            [
             0,
             "#8e0152"
            ],
            [
             0.1,
             "#c51b7d"
            ],
            [
             0.2,
             "#de77ae"
            ],
            [
             0.3,
             "#f1b6da"
            ],
            [
             0.4,
             "#fde0ef"
            ],
            [
             0.5,
             "#f7f7f7"
            ],
            [
             0.6,
             "#e6f5d0"
            ],
            [
             0.7,
             "#b8e186"
            ],
            [
             0.8,
             "#7fbc41"
            ],
            [
             0.9,
             "#4d9221"
            ],
            [
             1,
             "#276419"
            ]
           ],
           "sequential": [
            [
             0,
             "#0d0887"
            ],
            [
             0.1111111111111111,
             "#46039f"
            ],
            [
             0.2222222222222222,
             "#7201a8"
            ],
            [
             0.3333333333333333,
             "#9c179e"
            ],
            [
             0.4444444444444444,
             "#bd3786"
            ],
            [
             0.5555555555555556,
             "#d8576b"
            ],
            [
             0.6666666666666666,
             "#ed7953"
            ],
            [
             0.7777777777777778,
             "#fb9f3a"
            ],
            [
             0.8888888888888888,
             "#fdca26"
            ],
            [
             1,
             "#f0f921"
            ]
           ],
           "sequentialminus": [
            [
             0,
             "#0d0887"
            ],
            [
             0.1111111111111111,
             "#46039f"
            ],
            [
             0.2222222222222222,
             "#7201a8"
            ],
            [
             0.3333333333333333,
             "#9c179e"
            ],
            [
             0.4444444444444444,
             "#bd3786"
            ],
            [
             0.5555555555555556,
             "#d8576b"
            ],
            [
             0.6666666666666666,
             "#ed7953"
            ],
            [
             0.7777777777777778,
             "#fb9f3a"
            ],
            [
             0.8888888888888888,
             "#fdca26"
            ],
            [
             1,
             "#f0f921"
            ]
           ]
          },
          "colorway": [
           "#636efa",
           "#EF553B",
           "#00cc96",
           "#ab63fa",
           "#FFA15A",
           "#19d3f3",
           "#FF6692",
           "#B6E880",
           "#FF97FF",
           "#FECB52"
          ],
          "font": {
           "color": "#2a3f5f"
          },
          "geo": {
           "bgcolor": "white",
           "lakecolor": "white",
           "landcolor": "#E5ECF6",
           "showlakes": true,
           "showland": true,
           "subunitcolor": "white"
          },
          "hoverlabel": {
           "align": "left"
          },
          "hovermode": "closest",
          "mapbox": {
           "style": "light"
          },
          "paper_bgcolor": "white",
          "plot_bgcolor": "#E5ECF6",
          "polar": {
           "angularaxis": {
            "gridcolor": "white",
            "linecolor": "white",
            "ticks": ""
           },
           "bgcolor": "#E5ECF6",
           "radialaxis": {
            "gridcolor": "white",
            "linecolor": "white",
            "ticks": ""
           }
          },
          "scene": {
           "xaxis": {
            "backgroundcolor": "#E5ECF6",
            "gridcolor": "white",
            "gridwidth": 2,
            "linecolor": "white",
            "showbackground": true,
            "ticks": "",
            "zerolinecolor": "white"
           },
           "yaxis": {
            "backgroundcolor": "#E5ECF6",
            "gridcolor": "white",
            "gridwidth": 2,
            "linecolor": "white",
            "showbackground": true,
            "ticks": "",
            "zerolinecolor": "white"
           },
           "zaxis": {
            "backgroundcolor": "#E5ECF6",
            "gridcolor": "white",
            "gridwidth": 2,
            "linecolor": "white",
            "showbackground": true,
            "ticks": "",
            "zerolinecolor": "white"
           }
          },
          "shapedefaults": {
           "line": {
            "color": "#2a3f5f"
           }
          },
          "ternary": {
           "aaxis": {
            "gridcolor": "white",
            "linecolor": "white",
            "ticks": ""
           },
           "baxis": {
            "gridcolor": "white",
            "linecolor": "white",
            "ticks": ""
           },
           "bgcolor": "#E5ECF6",
           "caxis": {
            "gridcolor": "white",
            "linecolor": "white",
            "ticks": ""
           }
          },
          "title": {
           "x": 0.05
          },
          "xaxis": {
           "automargin": true,
           "gridcolor": "white",
           "linecolor": "white",
           "ticks": "",
           "title": {
            "standoff": 15
           },
           "zerolinecolor": "white",
           "zerolinewidth": 2
          },
          "yaxis": {
           "automargin": true,
           "gridcolor": "white",
           "linecolor": "white",
           "ticks": "",
           "title": {
            "standoff": 15
           },
           "zerolinecolor": "white",
           "zerolinewidth": 2
          }
         }
        },
        "title": {
         "text": "Slice Plot"
        },
        "xaxis": {
         "title": {
          "text": "neighbors"
         }
        },
        "yaxis": {
         "title": {
          "text": "Objective Value"
         }
        }
       }
      }
     },
     "metadata": {},
     "output_type": "display_data"
    }
   ],
   "source": [
    "def objective(trial):\n",
    "    model = KNeighborsClassifier(n_neighbors=trial.suggest_int('neighbors', 1, 50))\n",
    "    model.fit(X_train, y_train)\n",
    "    pred = model.predict(X_val)\n",
    "\n",
    "    return accuracy_score(y_val, pred)\n",
    "\n",
    "\n",
    "study_knn = optuna.create_study(direction='maximize')\n",
    "study_knn.optimize(objective, n_trials=50)\n",
    "\n",
    "optuna.visualization.plot_slice(study_knn, params=[\"neighbors\"])"
   ]
  },
  {
   "cell_type": "code",
   "execution_count": 33,
   "id": "16eff72f",
   "metadata": {},
   "outputs": [
    {
     "data": {
      "text/plain": [
       "{'neighbors': 45}"
      ]
     },
     "execution_count": 33,
     "metadata": {},
     "output_type": "execute_result"
    }
   ],
   "source": [
    "study_knn.best_params"
   ]
  },
  {
   "cell_type": "markdown",
   "id": "298723cc",
   "metadata": {},
   "source": [
    "# Regressão Logistica"
   ]
  },
  {
   "cell_type": "code",
   "execution_count": 30,
   "id": "9da51812",
   "metadata": {},
   "outputs": [
    {
     "name": "stdout",
     "output_type": "stream",
     "text": [
      "0.6325\n"
     ]
    }
   ],
   "source": [
    "reg = LogisticRegression()\n",
    "reg.fit(X_train, y_train)\n",
    "pred = reg.predict(X_val)\n",
    "\n",
    "print(accuracy_score(y_val, pred))"
   ]
  },
  {
   "cell_type": "markdown",
   "id": "a7c9df6e",
   "metadata": {},
   "source": [
    "# Random Forest"
   ]
  },
  {
   "cell_type": "code",
   "execution_count": null,
   "id": "fac9c004",
   "metadata": {},
   "outputs": [],
   "source": []
  },
  {
   "cell_type": "code",
   "execution_count": null,
   "id": "e0449098",
   "metadata": {},
   "outputs": [],
   "source": []
  }
 ],
 "metadata": {
  "kernelspec": {
   "display_name": "random",
   "language": "python",
   "name": "python3"
  },
  "language_info": {
   "codemirror_mode": {
    "name": "ipython",
    "version": 3
   },
   "file_extension": ".py",
   "mimetype": "text/x-python",
   "name": "python",
   "nbconvert_exporter": "python",
   "pygments_lexer": "ipython3",
   "version": "3.8.20"
  }
 },
 "nbformat": 4,
 "nbformat_minor": 5
}
